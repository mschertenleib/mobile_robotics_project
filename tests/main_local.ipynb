{
 "cells": [
  {
   "cell_type": "code",
   "execution_count": 28,
   "id": "b92ae123",
   "metadata": {
    "scrolled": false
   },
   "outputs": [],
   "source": [
    "from locnavig import *\n",
    "from IPython.display import Audio"
   ]
  },
  {
   "cell_type": "code",
   "execution_count": 3,
   "id": "8091ddd3",
   "metadata": {},
   "outputs": [
    {
     "name": "stdout",
     "output_type": "stream",
     "text": [
      "Thymio connected\n"
     ]
    }
   ],
   "source": [
    "try:\n",
    "    client = ClientAsync()\n",
    "    node = await client.wait_for_node()\n",
    "    await node.lock()\n",
    "    print(\"Thymio connected\")\n",
    "except:\n",
    "    print(\"Thymio not connected\")"
   ]
  },
  {
   "cell_type": "code",
   "execution_count": 6,
   "id": "cb7a050f",
   "metadata": {},
   "outputs": [],
   "source": [
    "spped_gain= 2\n",
    "motor_speed = 100   # speed of the robot \n",
    "LTobst = 5      # low obstacle threshold to switch state 1->0\n",
    "HTobst = 13    # high obstacle threshold to switch state 0->1\n",
    "obst_gain = 15  # /100 (actual gain: 15/100=0.15)\n",
    "\n",
    "state = 0      # Actual state of the robot: 0->global navigation, 1->obstacle avoidance\n",
    "case = 0       # Actual case of obstacle avoidance: 0-> left obstacle, 1-> right obstacle, 2-> obstacle in front  \n",
    "side = bool(random.randint(0,1)) # we randomly generate the first bypass choice of the robot when he encounters an obstacle in front of him  \n",
    "\n",
    "rotation_time = 1  # 1ms time before rotation \n",
    "step_back_time = 1 # 1ms time during which i step back \n",
    "\n",
    "prox_horizontal = [0, 0, 0, 0, 0] #initialize the value of the proximal sensors to 0"
   ]
  },
  {
   "cell_type": "code",
   "execution_count": 7,
   "id": "6e4ca264",
   "metadata": {},
   "outputs": [
    {
     "ename": "CancelledError",
     "evalue": "",
     "output_type": "error",
     "traceback": [
      "\u001b[0;31m---------------------------------------------------------------------------\u001b[0m",
      "\u001b[0;31mCancelledError\u001b[0m                            Traceback (most recent call last)",
      "Cell \u001b[0;32mIn[7], line 11\u001b[0m\n\u001b[1;32m      7\u001b[0m         obst \u001b[38;5;241m=\u001b[39m [prox_horizontal[\u001b[38;5;241m0\u001b[39m], prox_horizontal[\u001b[38;5;241m1\u001b[39m], prox_horizontal[\u001b[38;5;241m2\u001b[39m], prox_horizontal[\u001b[38;5;241m3\u001b[39m], prox_horizontal[\u001b[38;5;241m4\u001b[39m]]\n\u001b[1;32m      9\u001b[0m         \u001b[38;5;28;01mawait\u001b[39;00m avoid_obstacles(node,client,state,side,obst,HTobst, LTobst, motor_speed, step_back_time,spped_gain, rotation_time)\n\u001b[0;32m---> 11\u001b[0m \u001b[38;5;28;01mawait\u001b[39;00m prog()\n",
      "Cell \u001b[0;32mIn[7], line 6\u001b[0m, in \u001b[0;36mprog\u001b[0;34m()\u001b[0m\n\u001b[1;32m      4\u001b[0m \u001b[38;5;28;01mfor\u001b[39;00m i \u001b[38;5;129;01min\u001b[39;00m \u001b[38;5;28mrange\u001b[39m(\u001b[38;5;241m0\u001b[39m, \u001b[38;5;241m5\u001b[39m):\n\u001b[1;32m      5\u001b[0m     prox_horizontal[i]\u001b[38;5;241m=\u001b[39m\u001b[38;5;28mlist\u001b[39m(node\u001b[38;5;241m.\u001b[39mv\u001b[38;5;241m.\u001b[39mprox\u001b[38;5;241m.\u001b[39mhorizontal)[i]  \n\u001b[0;32m----> 6\u001b[0m \u001b[38;5;28;01mawait\u001b[39;00m client\u001b[38;5;241m.\u001b[39msleep(\u001b[38;5;241m0.01\u001b[39m)\n\u001b[1;32m      7\u001b[0m obst \u001b[38;5;241m=\u001b[39m [prox_horizontal[\u001b[38;5;241m0\u001b[39m], prox_horizontal[\u001b[38;5;241m1\u001b[39m], prox_horizontal[\u001b[38;5;241m2\u001b[39m], prox_horizontal[\u001b[38;5;241m3\u001b[39m], prox_horizontal[\u001b[38;5;241m4\u001b[39m]]\n\u001b[1;32m      9\u001b[0m \u001b[38;5;28;01mawait\u001b[39;00m avoid_obstacles(node,client,state,side,obst,HTobst, LTobst, motor_speed, step_back_time,spped_gain, rotation_time)\n",
      "File \u001b[0;32m~/anaconda3/lib/python3.11/site-packages/tdmclient/clientasync.py:73\u001b[0m, in \u001b[0;36mClientAsync.sleep\u001b[0;34m(self, duration, wake)\u001b[0m\n\u001b[1;32m     71\u001b[0m \u001b[38;5;28;01mif\u001b[39;00m wake \u001b[38;5;129;01mis\u001b[39;00m \u001b[38;5;129;01mnot\u001b[39;00m \u001b[38;5;28;01mNone\u001b[39;00m \u001b[38;5;129;01mand\u001b[39;00m wake():\n\u001b[1;32m     72\u001b[0m     \u001b[38;5;28;01mbreak\u001b[39;00m\n\u001b[0;32m---> 73\u001b[0m \u001b[38;5;28;01myield\u001b[39;00m\n",
      "\u001b[0;31mCancelledError\u001b[0m: "
     ]
    }
   ],
   "source": [
    "async def prog():\n",
    "    while True:\n",
    "        await node.wait_for_variables({\"prox.horizontal\"})\n",
    "        for i in range(0, 5):\n",
    "            prox_horizontal[i]=list(node.v.prox.horizontal)[i]  \n",
    "        await client.sleep(0.01)\n",
    "        obst = [prox_horizontal[0], prox_horizontal[1], prox_horizontal[2], prox_horizontal[3], prox_horizontal[4]]\n",
    "\n",
    "        await avoid_obstacles(node,client,state,side,obst,HTobst, LTobst, motor_speed, step_back_time,spped_gain, rotation_time)\n",
    "        \n",
    "await prog()"
   ]
  },
  {
   "cell_type": "code",
   "execution_count": 8,
   "id": "bd3d28ac",
   "metadata": {},
   "outputs": [],
   "source": [
    "await node.set_variables(set_motor_speed(0, 0))  "
   ]
  },
  {
   "cell_type": "code",
   "execution_count": null,
   "id": "ab69a1c6",
   "metadata": {},
   "outputs": [],
   "source": []
  },
  {
   "cell_type": "code",
   "execution_count": 12,
   "id": "f73aca52",
   "metadata": {},
   "outputs": [],
   "source": [
    "leds = [0, 0, 0, 0, 0, 0, 0, 0]\n",
    "rotation_speed =  1000\n",
    "rotation_time = 1\n",
    "rainbow = [\n",
    "        (255, 255, 0),  # Jaune\n",
    "        (112, 12, 0), #Orange\n",
    "        (255, 0, 0),    # Rouge\n",
    "        (205, 20, 64),  #Rose\n",
    "        (102, 0, 153), #Mauve\n",
    "        (0, 0, 255),    # Bleu\n",
    "        (0, 255, 127),  # Cyan\n",
    "        (0, 255, 0),    # Vert\n",
    "        ]"
   ]
  },
  {
   "cell_type": "code",
   "execution_count": 17,
   "id": "1f8cc183",
   "metadata": {},
   "outputs": [],
   "source": [
    "async def we_did_it(node, client,rotation_speed,rotation_time,rainbow):\n",
    "    #await node.set_variables(set_motor_speed(400, -400))\n",
    "    for colors in rainbow:            # Mettre à jour les LEDs avec la nouvelle couleur\n",
    "        await node.set_variables(set_leds(colors,colors,colors))\n",
    "        await rotate_90_degrees_clockwise(node,client,rotation_speed, rotation_time)\n",
    "        await step_back(node,client,rotation_speed, rotation_time)\n",
    "        await rotate_90_degrees_counterclockwise(node,client,rotation_speed, rotation_time)\n",
    "        await move_forward(node,client,rotation_speed, rotation_time)\n",
    "        await client.sleep(1)\n",
    "    await node.set_variables(set_motor_speed(0, 0))  "
   ]
  },
  {
   "cell_type": "code",
   "execution_count": 19,
   "id": "468b602f",
   "metadata": {},
   "outputs": [],
   "source": [
    "await we_did_it(node, client,rotation_speed,rotation_time,rainbow)"
   ]
  },
  {
   "cell_type": "code",
   "execution_count": 15,
   "id": "3a988ae6",
   "metadata": {},
   "outputs": [],
   "source": [
    "async def we_did_it(rotation_speed,rotation_time,rainbow):\n",
    "    for colors in rainbow:            # Mettre à jour les LEDs avec la nouvelle couleur\n",
    "        #circle = [colors, colors, colors, colors,colors,colors,colors,colors]\n",
    "        await node.set_variables(set_leds(colors,colors,colors))\n",
    "        await rotate_90_degrees_clockwise(rotation_speed, rotation_time+2)\n",
    "    await node.set_variables(set_motor_speed(0, 0))  "
   ]
  },
  {
   "cell_type": "code",
   "execution_count": null,
   "id": "b1944e8b",
   "metadata": {},
   "outputs": [],
   "source": [
    "async def update_speed(state, motor_speedl, motor_speedr):\n",
    "    if not state:\n",
    "        await node.set_variables(set_motor_speed(motor_speedl, motor_speedr)) \n",
    "    else:\n",
    "        pass        "
   ]
  }
 ],
 "metadata": {
  "kernelspec": {
   "display_name": "Python 3 (ipykernel)",
   "language": "python",
   "name": "python3"
  },
  "language_info": {
   "codemirror_mode": {
    "name": "ipython",
    "version": 3
   },
   "file_extension": ".py",
   "mimetype": "text/x-python",
   "name": "python",
   "nbconvert_exporter": "python",
   "pygments_lexer": "ipython3",
   "version": "3.11.5"
  }
 },
 "nbformat": 4,
 "nbformat_minor": 5
}
