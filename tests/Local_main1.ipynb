{
 "cells": [
  {
   "cell_type": "markdown",
   "id": "badd9702",
   "metadata": {},
   "source": [
    "#### Import the local navigation file "
   ]
  },
  {
   "cell_type": "code",
   "execution_count": 1,
   "id": "e21513bb",
   "metadata": {},
   "outputs": [],
   "source": [
    "from local_navigation1 import *"
   ]
  },
  {
   "cell_type": "markdown",
   "id": "809fe8cf",
   "metadata": {},
   "source": [
    "#### Connect the Thymio"
   ]
  },
  {
   "cell_type": "code",
   "execution_count": 2,
   "id": "11988175",
   "metadata": {},
   "outputs": [
    {
     "name": "stdout",
     "output_type": "stream",
     "text": [
      "Thymio connected\n"
     ]
    }
   ],
   "source": [
    "try:\n",
    "    client = ClientAsync()\n",
    "    node = await client.wait_for_node()\n",
    "    await node.lock()\n",
    "    print(\"Thymio connected\")\n",
    "except:\n",
    "    print(\"Thymio not connected\")"
   ]
  },
  {
   "cell_type": "markdown",
   "id": "9d66d653",
   "metadata": {},
   "source": [
    "#### Local parameters"
   ]
  },
  {
   "cell_type": "code",
   "execution_count": 6,
   "id": "8cbe641e",
   "metadata": {},
   "outputs": [],
   "source": [
    "motor_speed = 70   # speed of the robot \n",
    "LTobst = 5      # low obstacle threshold to switch state 1->0\n",
    "HTobst = 17    # high obstacle threshold to switch state 0->1\n",
    "obst_gain = 2 # 100 (actual gain: 15/100=0.02)\n",
    "\n",
    "state = 0      # Actual state of the robot: 0->global navigation, 1->obstacle avoidance\n",
    "case = 0       # Actual case of obstacle avoidance: 0-> left obstacle, 1-> right obstacle, 2-> obstacle in front  \n",
    "side = bool(random.randint(0,1)) # we randomly generate the first bypass choice of the robot when he encounters an obstacle in front of him  \n",
    "\n",
    "prox_horizontal = [0, 0, 0, 0, 0] #initialize the value of the proximal sensors to 0"
   ]
  },
  {
   "cell_type": "markdown",
   "id": "32735893",
   "metadata": {},
   "source": [
    "#### Local main "
   ]
  },
  {
   "cell_type": "code",
   "execution_count": 7,
   "id": "980d7048",
   "metadata": {
    "scrolled": true
   },
   "outputs": [
    {
     "ename": "CancelledError",
     "evalue": "",
     "output_type": "error",
     "traceback": [
      "\u001b[0;31m---------------------------------------------------------------------------\u001b[0m",
      "\u001b[0;31mCancelledError\u001b[0m                            Traceback (most recent call last)",
      "Cell \u001b[0;32mIn[7], line 9\u001b[0m\n\u001b[1;32m      6\u001b[0m         obst \u001b[38;5;241m=\u001b[39m [prox_horizontal[\u001b[38;5;241m0\u001b[39m], prox_horizontal[\u001b[38;5;241m1\u001b[39m], prox_horizontal[\u001b[38;5;241m2\u001b[39m], prox_horizontal[\u001b[38;5;241m3\u001b[39m], prox_horizontal[\u001b[38;5;241m4\u001b[39m]]\n\u001b[1;32m      8\u001b[0m         \u001b[38;5;28;01mawait\u001b[39;00m avoid_obstacles(node,client,state,side,obst, HTobst, LTobst, motor_speed, obst_gain)\n\u001b[0;32m----> 9\u001b[0m \u001b[38;5;28;01mawait\u001b[39;00m prog()\n",
      "Cell \u001b[0;32mIn[7], line 8\u001b[0m, in \u001b[0;36mprog\u001b[0;34m()\u001b[0m\n\u001b[1;32m      5\u001b[0m     prox_horizontal[i]\u001b[38;5;241m=\u001b[39m\u001b[38;5;28mlist\u001b[39m(node\u001b[38;5;241m.\u001b[39mv\u001b[38;5;241m.\u001b[39mprox\u001b[38;5;241m.\u001b[39mhorizontal)[i]  \n\u001b[1;32m      6\u001b[0m obst \u001b[38;5;241m=\u001b[39m [prox_horizontal[\u001b[38;5;241m0\u001b[39m], prox_horizontal[\u001b[38;5;241m1\u001b[39m], prox_horizontal[\u001b[38;5;241m2\u001b[39m], prox_horizontal[\u001b[38;5;241m3\u001b[39m], prox_horizontal[\u001b[38;5;241m4\u001b[39m]]\n\u001b[0;32m----> 8\u001b[0m \u001b[38;5;28;01mawait\u001b[39;00m avoid_obstacles(node,client,state,side,obst, HTobst, LTobst, motor_speed, obst_gain)\n",
      "File \u001b[0;32m~/Documents/Untitled Folder/local_navigation1.py:91\u001b[0m, in \u001b[0;36mavoid_obstacles\u001b[0;34m(node, client, state, side, obst, HTobst, LTobst, motor_speed, obst_gain)\u001b[0m\n\u001b[1;32m     87\u001b[0m \u001b[38;5;28;01mif\u001b[39;00m case \u001b[38;5;241m==\u001b[39m \u001b[38;5;241m0\u001b[39m \u001b[38;5;129;01mor\u001b[39;00m case \u001b[38;5;241m==\u001b[39m \u001b[38;5;241m1\u001b[39m:\n\u001b[1;32m     88\u001b[0m     \u001b[38;5;66;03m# Obstacle is to your left or right.\u001b[39;00m\n\u001b[1;32m     89\u001b[0m     \u001b[38;5;66;03m# Obstacle avoidance: accelerate the wheel near the obstacle to turn in the opposite direction to the obstacle.\u001b[39;00m\n\u001b[1;32m     90\u001b[0m     \u001b[38;5;28;01mif\u001b[39;00m case \u001b[38;5;241m==\u001b[39m \u001b[38;5;241m0\u001b[39m:\n\u001b[0;32m---> 91\u001b[0m         \u001b[38;5;28;01mawait\u001b[39;00m turn_right(node,client,obst_gain \u001b[38;5;241m*\u001b[39m ((obst[\u001b[38;5;241m0\u001b[39m]\u001b[38;5;241m+\u001b[39mobst[\u001b[38;5;241m1\u001b[39m]) \u001b[38;5;241m/\u001b[39m\u001b[38;5;241m/\u001b[39m \u001b[38;5;241m100\u001b[39m))\n\u001b[1;32m     93\u001b[0m     \u001b[38;5;28;01melif\u001b[39;00m case \u001b[38;5;241m==\u001b[39m \u001b[38;5;241m1\u001b[39m:     \n\u001b[1;32m     94\u001b[0m         \u001b[38;5;28;01mawait\u001b[39;00m turn_left(node,client,obst_gain \u001b[38;5;241m*\u001b[39m ((obst[\u001b[38;5;241m4\u001b[39m]\u001b[38;5;241m+\u001b[39mobst[\u001b[38;5;241m3\u001b[39m]) \u001b[38;5;241m/\u001b[39m\u001b[38;5;241m/\u001b[39m \u001b[38;5;241m100\u001b[39m))\n",
      "File \u001b[0;32m~/Documents/Untitled Folder/local_navigation1.py:41\u001b[0m, in \u001b[0;36mturn_right\u001b[0;34m(node, client, motor_speed)\u001b[0m\n\u001b[1;32m     39\u001b[0m \u001b[38;5;28;01masync\u001b[39;00m \u001b[38;5;28;01mdef\u001b[39;00m \u001b[38;5;21mturn_right\u001b[39m(node,client,motor_speed):\n\u001b[1;32m     40\u001b[0m     \u001b[38;5;66;03m# Set the motor speeds in opposite directions to induce rotation\u001b[39;00m\n\u001b[0;32m---> 41\u001b[0m     \u001b[38;5;28;01mawait\u001b[39;00m node\u001b[38;5;241m.\u001b[39mset_variables(set_motor_speed(motor_speed, \u001b[38;5;241m-\u001b[39mmotor_speed))\n",
      "File \u001b[0;32m~/anaconda3/lib/python3.11/site-packages/tdmclient/clientasyncnode.py:96\u001b[0m, in \u001b[0;36mClientAsyncNode.set_variables\u001b[0;34m(self, var_dict)\u001b[0m\n\u001b[1;32m     94\u001b[0m \u001b[38;5;129m@types\u001b[39m\u001b[38;5;241m.\u001b[39mcoroutine\n\u001b[1;32m     95\u001b[0m \u001b[38;5;28;01mdef\u001b[39;00m \u001b[38;5;21mset_variables\u001b[39m(\u001b[38;5;28mself\u001b[39m, var_dict):\n\u001b[0;32m---> 96\u001b[0m     result \u001b[38;5;241m=\u001b[39m \u001b[38;5;28;01myield from\u001b[39;00m \u001b[38;5;28mself\u001b[39m\u001b[38;5;241m.\u001b[39mthymio\u001b[38;5;241m.\u001b[39msend_msg_and_get_result(\n\u001b[1;32m     97\u001b[0m         \u001b[38;5;28;01mlambda\u001b[39;00m notify:\n\u001b[1;32m     98\u001b[0m             \u001b[38;5;28mself\u001b[39m\u001b[38;5;241m.\u001b[39msend_set_variables(var_dict, request_id_notify\u001b[38;5;241m=\u001b[39mnotify)\n\u001b[1;32m     99\u001b[0m     )\n\u001b[1;32m    100\u001b[0m     \u001b[38;5;28;01mreturn\u001b[39;00m result\n",
      "File \u001b[0;32m~/anaconda3/lib/python3.11/site-packages/tdmclient/clientasync.py:175\u001b[0m, in \u001b[0;36mClientAsync.send_msg_and_get_result\u001b[0;34m(self, send_fun)\u001b[0m\n\u001b[1;32m    173\u001b[0m send_fun(notify)\n\u001b[1;32m    174\u001b[0m \u001b[38;5;28;01mwhile\u001b[39;00m \u001b[38;5;129;01mnot\u001b[39;00m done:\n\u001b[0;32m--> 175\u001b[0m     \u001b[38;5;28;01myield\u001b[39;00m\n\u001b[1;32m    176\u001b[0m     sleep(\u001b[38;5;28mself\u001b[39m\u001b[38;5;241m.\u001b[39mDEFAULT_SLEEP)\n\u001b[1;32m    177\u001b[0m     \u001b[38;5;28mself\u001b[39m\u001b[38;5;241m.\u001b[39mprocess_waiting_messages()\n",
      "\u001b[0;31mCancelledError\u001b[0m: "
     ]
    }
   ],
   "source": [
    "async def prog():\n",
    "    while True:\n",
    "        await node.wait_for_variables({\"prox.horizontal\"})\n",
    "        for i in range(0, 5):\n",
    "            prox_horizontal[i]=list(node.v.prox.horizontal)[i]  \n",
    "        obst = [prox_horizontal[0], prox_horizontal[1], prox_horizontal[2], prox_horizontal[3], prox_horizontal[4]]\n",
    "\n",
    "        await avoid_obstacles(node,client,state,side,obst, HTobst, LTobst, motor_speed, obst_gain)\n",
    "await prog()"
   ]
  },
  {
   "cell_type": "code",
   "execution_count": 9,
   "id": "b47651a0",
   "metadata": {},
   "outputs": [],
   "source": [
    "await node.set_variables(set_motor_speed(0, 0))  "
   ]
  },
  {
   "cell_type": "code",
   "execution_count": null,
   "id": "0c193fb1",
   "metadata": {},
   "outputs": [],
   "source": []
  }
 ],
 "metadata": {
  "kernelspec": {
   "display_name": "Python 3 (ipykernel)",
   "language": "python",
   "name": "python3"
  },
  "language_info": {
   "codemirror_mode": {
    "name": "ipython",
    "version": 3
   },
   "file_extension": ".py",
   "mimetype": "text/x-python",
   "name": "python",
   "nbconvert_exporter": "python",
   "pygments_lexer": "ipython3",
   "version": "3.11.5"
  }
 },
 "nbformat": 4,
 "nbformat_minor": 5
}
