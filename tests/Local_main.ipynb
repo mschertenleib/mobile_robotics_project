{
 "cells": [
  {
   "cell_type": "markdown",
   "id": "badd9702",
   "metadata": {},
   "source": [
    "#### Import the local navigation file "
   ]
  },
  {
   "cell_type": "code",
   "execution_count": null,
   "id": "e21513bb",
   "metadata": {},
   "outputs": [],
   "source": [
    "from local_navigation import *"
   ]
  },
  {
   "cell_type": "markdown",
   "id": "809fe8cf",
   "metadata": {},
   "source": [
    "#### Connect the Thymio"
   ]
  },
  {
   "cell_type": "code",
   "execution_count": null,
   "id": "11988175",
   "metadata": {},
   "outputs": [],
   "source": [
    "try:\n",
    "    client = ClientAsync()\n",
    "    node = await client.wait_for_node()\n",
    "    await node.lock()\n",
    "    print(\"Thymio connected\")\n",
    "except:\n",
    "    print(\"Thymio not connected\")"
   ]
  },
  {
   "cell_type": "markdown",
   "id": "9d66d653",
   "metadata": {},
   "source": [
    "#### Local parameters"
   ]
  },
  {
   "cell_type": "code",
   "execution_count": null,
   "id": "8cbe641e",
   "metadata": {},
   "outputs": [],
   "source": [
    "motor_speed = 100   # speed of the robot \n",
    "LTobst = 5      # low obstacle threshold to switch state 1->0\n",
    "HTobst = 13    # high obstacle threshold to switch state 0->1\n",
    "obst_gain = 15  # /100 (actual gain: 15/100=0.15)\n",
    "\n",
    "state = 0      # Actual state of the robot: 0->global navigation, 1->obstacle avoidance\n",
    "case = 0       # Actual case of obstacle avoidance: 0-> left obstacle, 1-> right obstacle, 2-> obstacle in front  \n",
    "side = bool(random.randint(0,1)) # we randomly generate the first bypass choice of the robot when he encounters an obstacle in front of him  \n",
    "\n",
    "rotation_time = 1  # 1ms time Thymio takes to rotate \n",
    "step_back_time = 1 # 1ms time Thymio takes to move backwards \n",
    "\n",
    "prox_horizontal = [0, 0, 0, 0, 0] #initialize the value of the proximal sensors to 0"
   ]
  },
  {
   "cell_type": "markdown",
   "id": "32735893",
   "metadata": {},
   "source": [
    "#### Local main "
   ]
  },
  {
   "cell_type": "code",
   "execution_count": null,
   "id": "980d7048",
   "metadata": {},
   "outputs": [],
   "source": [
    "async def prog():\n",
    "    while True:\n",
    "        await node.wait_for_variables({\"prox.horizontal\"})\n",
    "        for i in range(0, 5):\n",
    "            prox_horizontal[i]=list(node.v.prox.horizontal)[i]  \n",
    "        await client.sleep(0.01)\n",
    "        obst = [prox_horizontal[0], prox_horizontal[1], prox_horizontal[2], prox_horizontal[3], prox_horizontal[4]]\n",
    "\n",
    "        await avoid_obstacles(node,client,state,side,obst,HTobst, LTobst, motor_speed, step_back_time,obst_gain, rotation_time)\n",
    "        \n",
    "await prog()"
   ]
  }
 ],
 "metadata": {
  "kernelspec": {
   "display_name": "Python 3 (ipykernel)",
   "language": "python",
   "name": "python3"
  },
  "language_info": {
   "codemirror_mode": {
    "name": "ipython",
    "version": 3
   },
   "file_extension": ".py",
   "mimetype": "text/x-python",
   "name": "python",
   "nbconvert_exporter": "python",
   "pygments_lexer": "ipython3",
   "version": "3.11.5"
  }
 },
 "nbformat": 4,
 "nbformat_minor": 5
}
